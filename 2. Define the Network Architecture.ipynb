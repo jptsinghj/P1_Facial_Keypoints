{
 "cells": [
  {
   "cell_type": "markdown",
   "metadata": {},
   "source": [
    "## Define the Convolutional Neural Network\n",
    "\n",
    "After you've looked at the data you're working with and, in this case, know the shapes of the images and of the keypoints, you are ready to define a convolutional neural network that can *learn* from this data.\n",
    "\n",
    "In this notebook and in `models.py`, you will:\n",
    "1. Define a CNN with images as input and keypoints as output\n",
    "2. Construct the transformed FaceKeypointsDataset, just as before\n",
    "3. Train the CNN on the training data, tracking loss\n",
    "4. See how the trained model performs on test data\n",
    "5. If necessary, modify the CNN structure and model hyperparameters, so that it performs *well* **\\***\n",
    "\n",
    "**\\*** What does *well* mean?\n",
    "\n",
    "\"Well\" means that the model's loss decreases during training **and**, when applied to test image data, the model produces keypoints that closely match the true keypoints of each face. And you'll see examples of this later in the notebook.\n",
    "\n",
    "---\n"
   ]
  },
  {
   "cell_type": "markdown",
   "metadata": {},
   "source": [
    "## CNN Architecture\n",
    "\n",
    "Recall that CNN's are defined by a few types of layers:\n",
    "* Convolutional layers\n",
    "* Maxpooling layers\n",
    "* Fully-connected layers\n",
    "\n",
    "You are required to use the above layers and encouraged to add multiple convolutional layers and things like dropout layers that may prevent overfitting. You are also encouraged to look at literature on keypoint detection, such as [this paper](https://arxiv.org/pdf/1710.00977.pdf), to help you determine the structure of your network.\n",
    "\n",
    "\n",
    "### TODO: Define your model in the provided file `models.py` file\n",
    "\n",
    "This file is mostly empty but contains the expected name and some TODO's for creating your model.\n",
    "\n",
    "---"
   ]
  },
  {
   "cell_type": "markdown",
   "metadata": {},
   "source": [
    "## PyTorch Neural Nets\n",
    "\n",
    "To define a neural network in PyTorch, you define the layers of a model in the function `__init__` and define the feedforward behavior of a network that employs those initialized layers in the function `forward`, which takes in an input image tensor, `x`. The structure of this Net class is shown below and left for you to fill in.\n",
    "\n",
    "Note: During training, PyTorch will be able to perform backpropagation by keeping track of the network's feedforward behavior and using autograd to calculate the update to the weights in the network.\n",
    "\n",
    "#### Define the Layers in ` __init__`\n",
    "As a reminder, a conv/pool layer may be defined like this (in `__init__`):\n",
    "```\n",
    "# 1 input image channel (for grayscale images), 32 output channels/feature maps, 3x3 square convolution kernel\n",
    "self.conv1 = nn.Conv2d(1, 32, 3)\n",
    "\n",
    "# maxpool that uses a square window of kernel_size=2, stride=2\n",
    "self.pool = nn.MaxPool2d(2, 2)      \n",
    "```\n",
    "\n",
    "#### Refer to Layers in `forward`\n",
    "Then referred to in the `forward` function like this, in which the conv1 layer has a ReLu activation applied to it before maxpooling is applied:\n",
    "```\n",
    "x = self.pool(F.relu(self.conv1(x)))\n",
    "```\n",
    "\n",
    "Best practice is to place any layers whose weights will change during the training process in `__init__` and refer to them in the `forward` function; any layers or functions that always behave in the same way, such as a pre-defined activation function, should appear *only* in the `forward` function."
   ]
  },
  {
   "cell_type": "markdown",
   "metadata": {},
   "source": [
    "#### Why models.py\n",
    "\n",
    "You are tasked with defining the network in the `models.py` file so that any models you define can be saved and loaded by name in different notebooks in this project directory. For example, by defining a CNN class called `Net` in `models.py`, you can then create that same architecture in this and other notebooks by simply importing the class and instantiating a model:\n",
    "```\n",
    "    from models import Net\n",
    "    net = Net()\n",
    "```"
   ]
  },
  {
   "cell_type": "code",
   "execution_count": 41,
   "metadata": {
    "collapsed": true
   },
   "outputs": [
    {
     "name": "stdout",
     "output_type": "stream",
     "text": [
      "The autoreload extension is already loaded. To reload it, use:\n",
      "  %reload_ext autoreload\n"
     ]
    }
   ],
   "source": [
    "# import the usual resources\n",
    "import matplotlib.pyplot as plt\n",
    "import numpy as np\n",
    "\n",
    "# watch for any changes in model.py, if it changes, re-load it automatically\n",
    "%load_ext autoreload\n",
    "%autoreload 2"
   ]
  },
  {
   "cell_type": "code",
   "execution_count": 42,
   "metadata": {
    "collapsed": true
   },
   "outputs": [
    {
     "name": "stdout",
     "output_type": "stream",
     "text": [
      "Net(\n",
      "  (conv1): Conv2d(1, 32, kernel_size=(5, 5), stride=(1, 1))\n",
      "  (pool): MaxPool2d(kernel_size=2, stride=2, padding=0, dilation=1, ceil_mode=False)\n",
      "  (fc1): Linear(in_features=387200, out_features=136, bias=True)\n",
      ")\n"
     ]
    }
   ],
   "source": [
    "## TODO: Define the Net in models.py\n",
    "\n",
    "import torch\n",
    "import torch.nn as nn\n",
    "import torch.nn.functional as F\n",
    "\n",
    "## TODO: Once you've defined the network, you can instantiate it\n",
    "# one example conv layer has been provided for you\n",
    "from models import Net\n",
    "\n",
    "net = Net()\n",
    "print(net)"
   ]
  },
  {
   "cell_type": "markdown",
   "metadata": {
    "collapsed": true
   },
   "source": [
    "## Transform the dataset \n",
    "\n",
    "To prepare for training, create a transformed dataset of images and keypoints.\n",
    "\n",
    "### TODO: Define a data transform\n",
    "\n",
    "In PyTorch, a convolutional neural network expects a torch image of a consistent size as input. For efficient training, and so your model's loss does not blow up during training, it is also suggested that you normalize the input images and keypoints. The necessary transforms have been defined in `data_load.py` and you **do not** need to modify these; take a look at this file (you'll see the same transforms that were defined and applied in Notebook 1).\n",
    "\n",
    "To define the data transform below, use a [composition](http://pytorch.org/tutorials/beginner/data_loading_tutorial.html#compose-transforms) of:\n",
    "1. Rescaling and/or cropping the data, such that you are left with a square image (the suggested size is 224x224px)\n",
    "2. Normalizing the images and keypoints; turning each RGB image into a grayscale image with a color range of [0, 1] and transforming the given keypoints into a range of [-1, 1]\n",
    "3. Turning these images and keypoints into Tensors\n",
    "\n",
    "These transformations have been defined in `data_load.py`, but it's up to you to call them and create a `data_transform` below. **This transform will be applied to the training data and, later, the test data**. It will change how you go about displaying these images and keypoints, but these steps are essential for efficient training.\n",
    "\n",
    "As a note, should you want to perform data augmentation (which is optional in this project), and randomly rotate or shift these images, a square image size will be useful; rotating a 224x224 image by 90 degrees will result in the same shape of output."
   ]
  },
  {
   "cell_type": "code",
   "execution_count": 43,
   "metadata": {
    "collapsed": true
   },
   "outputs": [],
   "source": [
    "from torch.utils.data import Dataset, DataLoader\n",
    "from torchvision import transforms, utils\n",
    "\n",
    "# the dataset we created in Notebook 1 is copied in the helper file `data_load.py`\n",
    "from data_load import FacialKeypointsDataset\n",
    "# the transforms we defined in Notebook 1 are in the helper file `data_load.py`\n",
    "from data_load import Rescale, RandomCrop, Normalize, ToTensor\n",
    "\n",
    "\n",
    "## TODO: define the data_transform using transforms.Compose([all tx's, . , .])\n",
    "# order matters! i.e. rescaling should come before a smaller crop\n",
    "data_transform = transforms.Compose([Rescale(250),\n",
    "                                     RandomCrop(224),\n",
    "                                     Normalize(),\n",
    "                                     ToTensor()])\n",
    "\n",
    "# testing that you've defined a transform\n",
    "#assert(data_transform is not None), 'Define a data_transform'"
   ]
  },
  {
   "cell_type": "code",
   "execution_count": 44,
   "metadata": {
    "collapsed": true
   },
   "outputs": [
    {
     "name": "stdout",
     "output_type": "stream",
     "text": [
      "Number of images:  3462\n",
      "0 torch.Size([1, 224, 224]) torch.Size([68, 2])\n",
      "1 torch.Size([1, 224, 224]) torch.Size([68, 2])\n",
      "2 torch.Size([1, 224, 224]) torch.Size([68, 2])\n",
      "3 torch.Size([1, 224, 224]) torch.Size([68, 2])\n",
      "4 torch.Size([1, 224, 224]) torch.Size([68, 2])\n",
      "5 torch.Size([1, 224, 224]) torch.Size([68, 2])\n"
     ]
    }
   ],
   "source": [
    "# create the transformed dataset\n",
    "transformed_dataset = FacialKeypointsDataset(csv_file='data/training_frames_keypoints.csv',\n",
    "                                             root_dir='data/training/',\n",
    "                                             transform=data_transform)\n",
    "\n",
    "\n",
    "print('Number of images: ', len(transformed_dataset))\n",
    "\n",
    "# iterate through the transformed dataset and print some stats about the first few samples\n",
    "for i in range(6):\n",
    "    sample = transformed_dataset[i]\n",
    "    print(i, sample['image'].size(), sample['keypoints'].size())"
   ]
  },
  {
   "cell_type": "markdown",
   "metadata": {},
   "source": [
    "## Batching and loading data\n",
    "\n",
    "Next, having defined the transformed dataset, we can use PyTorch's DataLoader class to load the training data in batches of whatever size as well as to shuffle the data for training the model. You can read more about the parameters of the DataLoader, in [this documentation](http://pytorch.org/docs/master/data.html).\n",
    "\n",
    "#### Batch size\n",
    "Decide on a good batch size for training your model. Try both small and large batch sizes and note how the loss decreases as the model trains.\n",
    "\n",
    "**Note for Windows users**: Please change the `num_workers` to 0 or you may face some issues with your DataLoader failing."
   ]
  },
  {
   "cell_type": "code",
   "execution_count": 45,
   "metadata": {
    "collapsed": true
   },
   "outputs": [],
   "source": [
    "# load training data in batches\n",
    "batch_size = 10\n",
    "\n",
    "train_loader = DataLoader(transformed_dataset, \n",
    "                          batch_size=batch_size,\n",
    "                          shuffle=True, \n",
    "                          num_workers=0)\n"
   ]
  },
  {
   "cell_type": "markdown",
   "metadata": {},
   "source": [
    "## Before training\n",
    "\n",
    "Take a look at how this model performs before it trains. You should see that the keypoints it predicts start off in one spot and don't match the keypoints on a face at all! It's interesting to visualize this behavior so that you can compare it to the model after training and see how the model has improved.\n",
    "\n",
    "#### Load in the test dataset\n",
    "\n",
    "The test dataset is one that this model has *not* seen before, meaning it has not trained with these images. We'll load in this test data and before and after training, see how your model performs on this set!\n",
    "\n",
    "To visualize this test data, we have to go through some un-transformation steps to turn our images into python images from tensors and to turn our keypoints back into a recognizable range. "
   ]
  },
  {
   "cell_type": "code",
   "execution_count": 46,
   "metadata": {
    "collapsed": true
   },
   "outputs": [],
   "source": [
    "# load in the test data, using the dataset class\n",
    "# AND apply the data_transform you defined above\n",
    "\n",
    "# create the test dataset\n",
    "test_dataset = FacialKeypointsDataset(csv_file='data/test_frames_keypoints.csv',\n",
    "                                             root_dir='data/test/',\n",
    "                                             transform=data_transform)\n",
    "\n"
   ]
  },
  {
   "cell_type": "code",
   "execution_count": 47,
   "metadata": {
    "collapsed": true
   },
   "outputs": [],
   "source": [
    "# load test data in batches\n",
    "batch_size = 10\n",
    "\n",
    "test_loader = DataLoader(test_dataset, \n",
    "                          batch_size=batch_size,\n",
    "                          shuffle=True, \n",
    "                          num_workers=0)"
   ]
  },
  {
   "cell_type": "markdown",
   "metadata": {},
   "source": [
    "## Apply the model on a test sample\n",
    "\n",
    "To test the model on a test sample of data, you have to follow these steps:\n",
    "1. Extract the image and ground truth keypoints from a sample\n",
    "2. Make sure the image is a FloatTensor, which the model expects.\n",
    "3. Forward pass the image through the net to get the predicted, output keypoints.\n",
    "\n",
    "This function test how the network performs on the first batch of test data. It returns the images, the transformed images, the predicted keypoints (produced by the model), and the ground truth keypoints."
   ]
  },
  {
   "cell_type": "code",
   "execution_count": 48,
   "metadata": {
    "collapsed": true
   },
   "outputs": [],
   "source": [
    "# test the model on a batch of test images\n",
    "\n",
    "def net_sample_output():\n",
    "    \n",
    "    # iterate through the test dataset\n",
    "    for i, sample in enumerate(test_loader):\n",
    "        \n",
    "        # get sample data: images and ground truth keypoints\n",
    "        images = sample['image']\n",
    "        key_pts = sample['keypoints']\n",
    "\n",
    "        # convert images to FloatTensors\n",
    "        images = images.type(torch.FloatTensor)\n",
    "\n",
    "        # forward pass to get net output\n",
    "        output_pts = net(images)\n",
    "        \n",
    "        # reshape to batch_size x 68 x 2 pts\n",
    "        output_pts = output_pts.view(output_pts.size()[0], 68, -1)\n",
    "        \n",
    "        # break after first image is tested\n",
    "        if i == 0:\n",
    "            return images, output_pts, key_pts\n",
    "            "
   ]
  },
  {
   "cell_type": "markdown",
   "metadata": {},
   "source": [
    "#### Debugging tips\n",
    "\n",
    "If you get a size or dimension error here, make sure that your network outputs the expected number of keypoints! Or if you get a Tensor type error, look into changing the above code that casts the data into float types: `images = images.type(torch.FloatTensor)`."
   ]
  },
  {
   "cell_type": "code",
   "execution_count": 49,
   "metadata": {
    "collapsed": true
   },
   "outputs": [
    {
     "name": "stdout",
     "output_type": "stream",
     "text": [
      "torch.Size([10, 1, 224, 224])\n",
      "torch.Size([10, 68, 2])\n",
      "torch.Size([10, 68, 2])\n"
     ]
    }
   ],
   "source": [
    "# call the above function\n",
    "# returns: test images, test predicted keypoints, test ground truth keypoints\n",
    "test_images, test_outputs, gt_pts = net_sample_output()\n",
    "\n",
    "# print out the dimensions of the data to see if they make sense\n",
    "print(test_images.data.size())\n",
    "print(test_outputs.data.size())\n",
    "print(gt_pts.size())"
   ]
  },
  {
   "cell_type": "markdown",
   "metadata": {},
   "source": [
    "## Visualize the predicted keypoints\n",
    "\n",
    "Once we've had the model produce some predicted output keypoints, we can visualize these points in a way that's similar to how we've displayed this data before, only this time, we have to \"un-transform\" the image/keypoint data to display it.\n",
    "\n",
    "Note that I've defined a *new* function, `show_all_keypoints` that displays a grayscale image, its predicted keypoints and its ground truth keypoints (if provided)."
   ]
  },
  {
   "cell_type": "code",
   "execution_count": 50,
   "metadata": {
    "collapsed": true
   },
   "outputs": [],
   "source": [
    "def show_all_keypoints(image, predicted_key_pts, gt_pts=None):\n",
    "    \"\"\"Show image with predicted keypoints\"\"\"\n",
    "    # image is grayscale\n",
    "    plt.imshow(image, cmap='gray')\n",
    "    plt.scatter(predicted_key_pts[:, 0], predicted_key_pts[:, 1], s=20, marker='.', c='m')\n",
    "    # plot ground truth points as green pts\n",
    "    if gt_pts is not None:\n",
    "        plt.scatter(gt_pts[:, 0], gt_pts[:, 1], s=20, marker='.', c='g')\n"
   ]
  },
  {
   "cell_type": "markdown",
   "metadata": {},
   "source": [
    "#### Un-transformation\n",
    "\n",
    "Next, you'll see a helper function. `visualize_output` that takes in a batch of images, predicted keypoints, and ground truth keypoints and displays a set of those images and their true/predicted keypoints.\n",
    "\n",
    "This function's main role is to take batches of image and keypoint data (the input and output of your CNN), and transform them into numpy images and un-normalized keypoints (x, y) for normal display. The un-transformation process turns keypoints and images into numpy arrays from Tensors *and* it undoes the keypoint normalization done in the Normalize() transform; it's assumed that you applied these transformations when you loaded your test data."
   ]
  },
  {
   "cell_type": "code",
   "execution_count": 51,
   "metadata": {
    "collapsed": true
   },
   "outputs": [
    {
     "data": {
      "image/png": "[encoded data removed]",
      "text/plain": [
       "<Figure size 1440x720 with 1 Axes>"
      ]
     },
     "metadata": {
      "needs_background": "light"
     },
     "output_type": "display_data"
    },
    {
     "data": {
      "image/png": "[encoded data removed]",
      "text/plain": [
       "<Figure size 1440x720 with 1 Axes>"
      ]
     },
     "metadata": {
      "needs_background": "light"
     },
     "output_type": "display_data"
    },
    {
     "data": {
      "image/png": "[encoded data removed]",
      "text/plain": [
       "<Figure size 1440x720 with 1 Axes>"
      ]
     },
     "metadata": {
      "needs_background": "light"
     },
     "output_type": "display_data"
    },
    {
     "data": {
      "image/png": "[encoded data removed]",
      "text/plain": [
       "<Figure size 1440x720 with 1 Axes>"
      ]
     },
     "metadata": {
      "needs_background": "light"
     },
     "output_type": "display_data"
    },
    {
     "data": {
      "image/png": "[encoded data removed]",
      "text/plain": [
       "<Figure size 1440x720 with 1 Axes>"
      ]
     },
     "metadata": {
      "needs_background": "light"
     },
     "output_type": "display_data"
    },
    {
     "data": {
      "image/png": "[encoded data removed]",
      "text/plain": [
       "<Figure size 1440x720 with 1 Axes>"
      ]
     },
     "metadata": {
      "needs_background": "light"
     },
     "output_type": "display_data"
    },
    {
     "data": {
      "image/png": "[encoded data removed]",
      "text/plain": [
       "<Figure size 1440x720 with 1 Axes>"
      ]
     },
     "metadata": {
      "needs_background": "light"
     },
     "output_type": "display_data"
    },
    {
     "data": {
      "image/png": "[encoded data removed]",
      "text/plain": [
       "<Figure size 1440x720 with 1 Axes>"
      ]
     },
     "metadata": {
      "needs_background": "light"
     },
     "output_type": "display_data"
    },
    {
     "data": {
      "image/png": "[encoded data removed]",
      "text/plain": [
       "<Figure size 1440x720 with 1 Axes>"
      ]
     },
     "metadata": {
      "needs_background": "light"
     },
     "output_type": "display_data"
    },
    {
     "data": {
      "image/png": "[encoded data removed]",
      "text/plain": [
       "<Figure size 1440x720 with 1 Axes>"
      ]
     },
     "metadata": {
      "needs_background": "light"
     },
     "output_type": "display_data"
    }
   ],
   "source": [
    "# visualize the output\n",
    "# by default this shows a batch of 10 images\n",
    "def visualize_output(test_images, test_outputs, gt_pts=None, batch_size=10):\n",
    "\n",
    "    for i in range(batch_size):\n",
    "        plt.figure(figsize=(20,10))\n",
    "        ax = plt.subplot(1, batch_size, i+1)\n",
    "\n",
    "        # un-transform the image data\n",
    "        image = test_images[i].data   # get the image from it's wrapper\n",
    "        image = image.numpy()   # convert to numpy array from a Tensor\n",
    "        image = np.transpose(image, (1, 2, 0))   # transpose to go from torch to numpy image\n",
    "\n",
    "        # un-transform the predicted key_pts data\n",
    "        predicted_key_pts = test_outputs[i].data\n",
    "        predicted_key_pts = predicted_key_pts.numpy()\n",
    "        # undo normalization of keypoints  \n",
    "        predicted_key_pts = predicted_key_pts*50.0+100\n",
    "        \n",
    "        # plot ground truth points for comparison, if they exist\n",
    "        ground_truth_pts = None\n",
    "        if gt_pts is not None:\n",
    "            ground_truth_pts = gt_pts[i]         \n",
    "            ground_truth_pts = ground_truth_pts*50.0+100\n",
    "        \n",
    "        # call show_all_keypoints\n",
    "        show_all_keypoints(np.squeeze(image), predicted_key_pts, ground_truth_pts)\n",
    "            \n",
    "        plt.axis('off')\n",
    "\n",
    "    plt.show()\n",
    "    \n",
    "# call it\n",
    "visualize_output(test_images, test_outputs, gt_pts)"
   ]
  },
  {
   "cell_type": "markdown",
   "metadata": {},
   "source": [
    "## Training\n",
    "\n",
    "#### Loss function\n",
    "Training a network to predict keypoints is different than training a network to predict a class; instead of outputting a distribution of classes and using cross entropy loss, you may want to choose a loss function that is suited for regression, which directly compares a predicted value and target value. Read about the various kinds of loss functions (like MSE or L1/SmoothL1 loss) in [this documentation](https://pytorch.org/docs/master/nn.html#loss-functions).\n",
    "\n",
    "### TODO: Define the loss and optimization\n",
    "\n",
    "Next, you'll define how the model will train by deciding on the loss function and optimizer.\n",
    "\n",
    "---"
   ]
  },
  {
   "cell_type": "code",
   "execution_count": 52,
   "metadata": {
    "collapsed": true
   },
   "outputs": [],
   "source": [
    "## TODO: Define the loss and optimization\n",
    "import torch.optim as optim\n",
    "\n",
    "criterion = nn.SmoothL1Loss(reduction='mean')\n",
    "\n",
    " # stochastic gradient descent with a small learning rate AND some momentum\n",
    "optimizer = optim.SGD(net.parameters(), lr=0.001, momentum=0.9)\n"
   ]
  },
  {
   "cell_type": "markdown",
   "metadata": {},
   "source": [
    "## Training and Initial Observation\n",
    "\n",
    "Now, you'll train on your batched training data from `train_loader` for a number of epochs. \n",
    "\n",
    "To quickly observe how your model is training and decide on whether or not you should modify it's structure or hyperparameters, you're encouraged to start off with just one or two epochs at first. As you train, note how your model's loss behaves over time: does it decrease quickly at first and then slow down? Does it take a while to decrease in the first place? What happens if you change the batch size of your training data or modify your loss function? etc. \n",
    "\n",
    "Use these initial observations to make changes to your model and decide on the best architecture before you train for many epochs and create a final model."
   ]
  },
  {
   "cell_type": "code",
   "execution_count": 53,
   "metadata": {
    "collapsed": true
   },
   "outputs": [],
   "source": [
    "def train_net(n_epochs):\n",
    "\n",
    "    # prepare the net for training\n",
    "    net.train()\n",
    "\n",
    "    for epoch in range(n_epochs):  # loop over the dataset multiple times\n",
    "        \n",
    "        running_loss = 0.0\n",
    "\n",
    "        # train on batches of data, assumes you already have train_loader\n",
    "        for batch_i, data in enumerate(train_loader):\n",
    "            # get the input images and their corresponding labels\n",
    "            images = data['image']\n",
    "            key_pts = data['keypoints']\n",
    "\n",
    "            # flatten pts\n",
    "            key_pts = key_pts.view(key_pts.size(0), -1)\n",
    "\n",
    "            # convert variables to floats for regression loss\n",
    "            key_pts = key_pts.type(torch.FloatTensor)\n",
    "            images = images.type(torch.FloatTensor)\n",
    "            \n",
    "            # forward pass to get outputs\n",
    "            output_pts = net(images)\n",
    "            \n",
    "\n",
    "            # calculate the loss between predicted and target keypoints\n",
    "            loss = criterion(output_pts, key_pts)\n",
    "\n",
    "          \n",
    "\n",
    "            # zero the parameter (weight) gradients\n",
    "            optimizer.zero_grad()\n",
    "            \n",
    "            # backward pass to calculate the weight gradients\n",
    "            loss.backward()\n",
    "\n",
    "            # update the weights\n",
    "            optimizer.step()\n",
    "\n",
    "            # print loss statistics\n",
    "            # to convert loss into a scalar and add it to the running_loss, use .item()\n",
    "            running_loss += loss.item()\n",
    "            if batch_i % 10 == 9:    # print every 10 batches\n",
    "                print('Epoch: {}, Batch: {}, Avg. Loss: {}'.format(epoch + 1, batch_i+1, running_loss/1000))\n",
    "                running_loss = 0.0\n",
    "\n",
    "    print('Finished Training')\n"
   ]
  },
  {
   "cell_type": "code",
   "execution_count": 54,
   "metadata": {
    "collapsed": true
   },
   "outputs": [
    {
     "name": "stdout",
     "output_type": "stream",
     "text": [
      "Epoch: 1, Batch: 10, Avg. Loss: 0.0026417840123176576\n",
      "Epoch: 1, Batch: 20, Avg. Loss: 0.0010761496722698212\n",
      "Epoch: 1, Batch: 30, Avg. Loss: 0.0010079587548971177\n",
      "Epoch: 1, Batch: 40, Avg. Loss: 0.001148835252970457\n",
      "Epoch: 1, Batch: 50, Avg. Loss: 0.0009436163939535618\n",
      "Epoch: 1, Batch: 60, Avg. Loss: 0.000872259609401226\n",
      "Epoch: 1, Batch: 70, Avg. Loss: 0.0012332663238048553\n",
      "Epoch: 1, Batch: 80, Avg. Loss: 0.0008549109548330307\n",
      "Epoch: 1, Batch: 90, Avg. Loss: 0.0007993179894983768\n",
      "Epoch: 1, Batch: 100, Avg. Loss: 0.000877199187874794\n",
      "Epoch: 1, Batch: 110, Avg. Loss: 0.0007687848247587681\n",
      "Epoch: 1, Batch: 120, Avg. Loss: 0.000782671693712473\n",
      "Epoch: 1, Batch: 130, Avg. Loss: 0.0008612299077212811\n",
      "Epoch: 1, Batch: 140, Avg. Loss: 0.0007739030867815017\n",
      "Epoch: 1, Batch: 150, Avg. Loss: 0.0008697513118386268\n",
      "Epoch: 1, Batch: 160, Avg. Loss: 0.000992479968816042\n",
      "Epoch: 1, Batch: 170, Avg. Loss: 0.0009495126008987427\n",
      "Epoch: 1, Batch: 180, Avg. Loss: 0.0008041929379105567\n",
      "Epoch: 1, Batch: 190, Avg. Loss: 0.0008621170073747635\n",
      "Epoch: 1, Batch: 200, Avg. Loss: 0.0008868852145969868\n",
      "Epoch: 1, Batch: 210, Avg. Loss: 0.0007738979868590832\n",
      "Epoch: 1, Batch: 220, Avg. Loss: 0.0009054650329053402\n",
      "Epoch: 1, Batch: 230, Avg. Loss: 0.0007805850580334664\n",
      "Epoch: 1, Batch: 240, Avg. Loss: 0.0008076215460896492\n",
      "Epoch: 1, Batch: 250, Avg. Loss: 0.000978091523051262\n",
      "Epoch: 1, Batch: 260, Avg. Loss: 0.0009530708491802216\n",
      "Epoch: 1, Batch: 270, Avg. Loss: 0.0008143671154975891\n",
      "Epoch: 1, Batch: 280, Avg. Loss: 0.0009515472501516342\n",
      "Epoch: 1, Batch: 290, Avg. Loss: 0.0008924976065754891\n",
      "Epoch: 1, Batch: 300, Avg. Loss: 0.0008283723145723343\n",
      "Epoch: 1, Batch: 310, Avg. Loss: 0.00093758175522089\n",
      "Epoch: 1, Batch: 320, Avg. Loss: 0.000934209804981947\n",
      "Epoch: 1, Batch: 330, Avg. Loss: 0.0007219731807708741\n",
      "Epoch: 1, Batch: 340, Avg. Loss: 0.000785060252994299\n",
      "Epoch: 2, Batch: 10, Avg. Loss: 0.0009189453944563866\n",
      "Epoch: 2, Batch: 20, Avg. Loss: 0.0008310951665043831\n",
      "Epoch: 2, Batch: 30, Avg. Loss: 0.0009497475735843182\n",
      "Epoch: 2, Batch: 40, Avg. Loss: 0.0007103869952261448\n",
      "Epoch: 2, Batch: 50, Avg. Loss: 0.0009101380594074727\n",
      "Epoch: 2, Batch: 60, Avg. Loss: 0.000998497910797596\n",
      "Epoch: 2, Batch: 70, Avg. Loss: 0.0008551002256572247\n",
      "Epoch: 2, Batch: 80, Avg. Loss: 0.0007444608956575394\n",
      "Epoch: 2, Batch: 90, Avg. Loss: 0.0007667096219956875\n",
      "Epoch: 2, Batch: 100, Avg. Loss: 0.0011178416386246682\n",
      "Epoch: 2, Batch: 110, Avg. Loss: 0.0009761748388409614\n",
      "Epoch: 2, Batch: 120, Avg. Loss: 0.00081132847443223\n",
      "Epoch: 2, Batch: 130, Avg. Loss: 0.0008991966247558594\n",
      "Epoch: 2, Batch: 140, Avg. Loss: 0.001006906807422638\n",
      "Epoch: 2, Batch: 150, Avg. Loss: 0.0009941617026925087\n",
      "Epoch: 2, Batch: 160, Avg. Loss: 0.0008120970129966736\n",
      "Epoch: 2, Batch: 170, Avg. Loss: 0.0009525909796357154\n",
      "Epoch: 2, Batch: 180, Avg. Loss: 0.00077579066157341\n",
      "Epoch: 2, Batch: 190, Avg. Loss: 0.0008186309896409512\n",
      "Epoch: 2, Batch: 200, Avg. Loss: 0.0008081076629459858\n",
      "Epoch: 2, Batch: 210, Avg. Loss: 0.0006867574341595173\n",
      "Epoch: 2, Batch: 220, Avg. Loss: 0.0009799672663211823\n",
      "Epoch: 2, Batch: 230, Avg. Loss: 0.0009174231290817261\n",
      "Epoch: 2, Batch: 240, Avg. Loss: 0.0008144576624035836\n",
      "Epoch: 2, Batch: 250, Avg. Loss: 0.0008368081487715245\n",
      "Epoch: 2, Batch: 260, Avg. Loss: 0.0010634770393371583\n",
      "Epoch: 2, Batch: 270, Avg. Loss: 0.000848644807934761\n",
      "Epoch: 2, Batch: 280, Avg. Loss: 0.0008883225955069065\n",
      "Epoch: 2, Batch: 290, Avg. Loss: 0.0009407743439078331\n",
      "Epoch: 2, Batch: 300, Avg. Loss: 0.0008914546296000481\n",
      "Epoch: 2, Batch: 310, Avg. Loss: 0.0010049042925238609\n",
      "Epoch: 2, Batch: 320, Avg. Loss: 0.0008295835424214601\n",
      "Epoch: 2, Batch: 330, Avg. Loss: 0.000980410125106573\n",
      "Epoch: 2, Batch: 340, Avg. Loss: 0.0010359344594180584\n",
      "Epoch: 3, Batch: 10, Avg. Loss: 0.0008933257274329662\n",
      "Epoch: 3, Batch: 20, Avg. Loss: 0.0010049781911075114\n",
      "Epoch: 3, Batch: 30, Avg. Loss: 0.0008992917947471142\n",
      "Epoch: 3, Batch: 40, Avg. Loss: 0.0008661541864275933\n",
      "Epoch: 3, Batch: 50, Avg. Loss: 0.0008484796844422817\n",
      "Epoch: 3, Batch: 60, Avg. Loss: 0.001020963106304407\n",
      "Epoch: 3, Batch: 70, Avg. Loss: 0.0008124137036502362\n",
      "Epoch: 3, Batch: 80, Avg. Loss: 0.0009725220948457718\n",
      "Epoch: 3, Batch: 90, Avg. Loss: 0.0010467149466276168\n",
      "Epoch: 3, Batch: 100, Avg. Loss: 0.0007859487533569335\n",
      "Epoch: 3, Batch: 110, Avg. Loss: 0.0008956526257097721\n",
      "Epoch: 3, Batch: 120, Avg. Loss: 0.0008562018685042859\n",
      "Epoch: 3, Batch: 130, Avg. Loss: 0.0010072428993880749\n",
      "Epoch: 3, Batch: 140, Avg. Loss: 0.0008890350461006164\n",
      "Epoch: 3, Batch: 150, Avg. Loss: 0.0010628731325268744\n",
      "Epoch: 3, Batch: 160, Avg. Loss: 0.0007328007631003856\n",
      "Epoch: 3, Batch: 170, Avg. Loss: 0.0008918850049376487\n",
      "Epoch: 3, Batch: 180, Avg. Loss: 0.0009979227595031262\n",
      "Epoch: 3, Batch: 190, Avg. Loss: 0.0009715890251100063\n",
      "Epoch: 3, Batch: 200, Avg. Loss: 0.0007484112456440926\n",
      "Epoch: 3, Batch: 210, Avg. Loss: 0.000714392751455307\n",
      "Epoch: 3, Batch: 220, Avg. Loss: 0.0007646339572966098\n",
      "Epoch: 3, Batch: 230, Avg. Loss: 0.0012680672779679298\n",
      "Epoch: 3, Batch: 240, Avg. Loss: 0.0010499219596385957\n",
      "Epoch: 3, Batch: 250, Avg. Loss: 0.0008216480053961277\n",
      "Epoch: 3, Batch: 260, Avg. Loss: 0.0008561137281358242\n",
      "Epoch: 3, Batch: 270, Avg. Loss: 0.0007230760678648948\n",
      "Epoch: 3, Batch: 280, Avg. Loss: 0.000870847798883915\n",
      "Epoch: 3, Batch: 290, Avg. Loss: 0.0008456364534795284\n",
      "Epoch: 3, Batch: 300, Avg. Loss: 0.000994159922003746\n",
      "Epoch: 3, Batch: 310, Avg. Loss: 0.0007789580971002579\n",
      "Epoch: 3, Batch: 320, Avg. Loss: 0.0009216232486069202\n",
      "Epoch: 3, Batch: 330, Avg. Loss: 0.0010072682313621044\n",
      "Epoch: 3, Batch: 340, Avg. Loss: 0.0010063087232410907\n",
      "Epoch: 4, Batch: 10, Avg. Loss: 0.0011142263561487197\n",
      "Epoch: 4, Batch: 20, Avg. Loss: 0.0008870230503380299\n",
      "Epoch: 4, Batch: 30, Avg. Loss: 0.0009697798825800419\n",
      "Epoch: 4, Batch: 40, Avg. Loss: 0.001043917264789343\n",
      "Epoch: 4, Batch: 50, Avg. Loss: 0.0007571883350610733\n",
      "Epoch: 4, Batch: 60, Avg. Loss: 0.0009493567794561386\n",
      "Epoch: 4, Batch: 70, Avg. Loss: 0.0008455572724342346\n",
      "Epoch: 4, Batch: 80, Avg. Loss: 0.0007759833112359047\n",
      "Epoch: 4, Batch: 90, Avg. Loss: 0.0009895352013409137\n",
      "Epoch: 4, Batch: 100, Avg. Loss: 0.0007639961279928684\n",
      "Epoch: 4, Batch: 110, Avg. Loss: 0.0007833810746669769\n",
      "Epoch: 4, Batch: 120, Avg. Loss: 0.0009076599702239036\n",
      "Epoch: 4, Batch: 130, Avg. Loss: 0.0007161883227527142\n",
      "Epoch: 4, Batch: 140, Avg. Loss: 0.0009801029339432717\n",
      "Epoch: 4, Batch: 150, Avg. Loss: 0.0007491493485867977\n",
      "Epoch: 4, Batch: 160, Avg. Loss: 0.000952050618827343\n",
      "Epoch: 4, Batch: 170, Avg. Loss: 0.0008748802430927754\n",
      "Epoch: 4, Batch: 180, Avg. Loss: 0.0009765591397881508\n",
      "Epoch: 4, Batch: 190, Avg. Loss: 0.0008430510275065899\n",
      "Epoch: 4, Batch: 200, Avg. Loss: 0.0008805881142616271\n",
      "Epoch: 4, Batch: 210, Avg. Loss: 0.0008559070602059364\n",
      "Epoch: 4, Batch: 220, Avg. Loss: 0.0007195903211832047\n",
      "Epoch: 4, Batch: 230, Avg. Loss: 0.0008291422761976719\n",
      "Epoch: 4, Batch: 240, Avg. Loss: 0.0009568616934120655\n",
      "Epoch: 4, Batch: 250, Avg. Loss: 0.0010627217367291451\n",
      "Epoch: 4, Batch: 260, Avg. Loss: 0.0008805985711514949\n",
      "Epoch: 4, Batch: 270, Avg. Loss: 0.0009993412718176842\n",
      "Epoch: 4, Batch: 280, Avg. Loss: 0.0010102285072207452\n",
      "Epoch: 4, Batch: 290, Avg. Loss: 0.0011360371857881545\n",
      "Epoch: 4, Batch: 300, Avg. Loss: 0.001009444735944271\n",
      "Epoch: 4, Batch: 310, Avg. Loss: 0.0008972330763936043\n",
      "Epoch: 4, Batch: 320, Avg. Loss: 0.0009820246808230878\n",
      "Epoch: 4, Batch: 330, Avg. Loss: 0.0011523928828537464\n",
      "Epoch: 4, Batch: 340, Avg. Loss: 0.0008905889093875886\n",
      "Epoch: 5, Batch: 10, Avg. Loss: 0.0009339028000831604\n",
      "Epoch: 5, Batch: 20, Avg. Loss: 0.0009531666822731495\n",
      "Epoch: 5, Batch: 30, Avg. Loss: 0.0008715282753109932\n",
      "Epoch: 5, Batch: 40, Avg. Loss: 0.0007560239434242249\n",
      "Epoch: 5, Batch: 50, Avg. Loss: 0.0007918703593313694\n",
      "Epoch: 5, Batch: 60, Avg. Loss: 0.0009015019312500953\n",
      "Epoch: 5, Batch: 70, Avg. Loss: 0.0008494863584637642\n",
      "Epoch: 5, Batch: 80, Avg. Loss: 0.0006711932681500912\n",
      "Epoch: 5, Batch: 90, Avg. Loss: 0.0007346388287842274\n",
      "Epoch: 5, Batch: 100, Avg. Loss: 0.001152968093752861\n",
      "Epoch: 5, Batch: 110, Avg. Loss: 0.0009649829715490341\n",
      "Epoch: 5, Batch: 120, Avg. Loss: 0.0007546047531068325\n",
      "Epoch: 5, Batch: 130, Avg. Loss: 0.0010927424654364585\n",
      "Epoch: 5, Batch: 140, Avg. Loss: 0.0008031004294753075\n",
      "Epoch: 5, Batch: 150, Avg. Loss: 0.0010417611561715603\n",
      "Epoch: 5, Batch: 160, Avg. Loss: 0.0008504085168242455\n",
      "Epoch: 5, Batch: 170, Avg. Loss: 0.0009080534502863884\n",
      "Epoch: 5, Batch: 180, Avg. Loss: 0.0008994353041052818\n",
      "Epoch: 5, Batch: 190, Avg. Loss: 0.0008275335989892483\n",
      "Epoch: 5, Batch: 200, Avg. Loss: 0.0008822535425424576\n",
      "Epoch: 5, Batch: 210, Avg. Loss: 0.0008881103061139584\n",
      "Epoch: 5, Batch: 220, Avg. Loss: 0.0010759889595210552\n",
      "Epoch: 5, Batch: 230, Avg. Loss: 0.0008799671493470669\n",
      "Epoch: 5, Batch: 240, Avg. Loss: 0.000930336881428957\n",
      "Epoch: 5, Batch: 250, Avg. Loss: 0.001065441146492958\n",
      "Epoch: 5, Batch: 260, Avg. Loss: 0.000804748434573412\n",
      "Epoch: 5, Batch: 270, Avg. Loss: 0.0008431602977216244\n",
      "Epoch: 5, Batch: 280, Avg. Loss: 0.0007377428337931633\n",
      "Epoch: 5, Batch: 290, Avg. Loss: 0.000843446210026741\n",
      "Epoch: 5, Batch: 300, Avg. Loss: 0.000996064491569996\n",
      "Epoch: 5, Batch: 310, Avg. Loss: 0.0010274866446852685\n",
      "Epoch: 5, Batch: 320, Avg. Loss: 0.0011951081827282905\n",
      "Epoch: 5, Batch: 330, Avg. Loss: 0.0008966776058077812\n",
      "Epoch: 5, Batch: 340, Avg. Loss: 0.000810029972344637\n",
      "Epoch: 6, Batch: 10, Avg. Loss: 0.0007993407621979714\n",
      "Epoch: 6, Batch: 20, Avg. Loss: 0.0008999213054776191\n",
      "Epoch: 6, Batch: 30, Avg. Loss: 0.001032038029283285\n",
      "Epoch: 6, Batch: 40, Avg. Loss: 0.0007995521128177643\n",
      "Epoch: 6, Batch: 50, Avg. Loss: 0.0007949360199272633\n",
      "Epoch: 6, Batch: 60, Avg. Loss: 0.0009781004190444946\n",
      "Epoch: 6, Batch: 70, Avg. Loss: 0.0009522928297519684\n",
      "Epoch: 6, Batch: 80, Avg. Loss: 0.0008477045595645904\n",
      "Epoch: 6, Batch: 90, Avg. Loss: 0.0008577896207571029\n",
      "Epoch: 6, Batch: 100, Avg. Loss: 0.000893266599625349\n",
      "Epoch: 6, Batch: 110, Avg. Loss: 0.0008308122344315052\n",
      "Epoch: 6, Batch: 120, Avg. Loss: 0.0009515938982367515\n",
      "Epoch: 6, Batch: 130, Avg. Loss: 0.0010678163580596447\n",
      "Epoch: 6, Batch: 140, Avg. Loss: 0.000977945651859045\n",
      "Epoch: 6, Batch: 150, Avg. Loss: 0.000884892612695694\n",
      "Epoch: 6, Batch: 160, Avg. Loss: 0.0008764512538909912\n",
      "Epoch: 6, Batch: 170, Avg. Loss: 0.0009557588398456573\n",
      "Epoch: 6, Batch: 180, Avg. Loss: 0.0008046371079981327\n",
      "Epoch: 6, Batch: 190, Avg. Loss: 0.0007199289239943027\n",
      "Epoch: 6, Batch: 200, Avg. Loss: 0.0007548563741147518\n",
      "Epoch: 6, Batch: 210, Avg. Loss: 0.0010532574877142905\n",
      "Epoch: 6, Batch: 220, Avg. Loss: 0.0008028086684644222\n",
      "Epoch: 6, Batch: 230, Avg. Loss: 0.0009651780165731906\n",
      "Epoch: 6, Batch: 240, Avg. Loss: 0.0008186692111194134\n",
      "Epoch: 6, Batch: 250, Avg. Loss: 0.0010497930943965913\n",
      "Epoch: 6, Batch: 260, Avg. Loss: 0.0009400597885251045\n",
      "Epoch: 6, Batch: 270, Avg. Loss: 0.0009810186475515366\n",
      "Epoch: 6, Batch: 280, Avg. Loss: 0.0009487429931759834\n",
      "Epoch: 6, Batch: 290, Avg. Loss: 0.0010388632193207741\n",
      "Epoch: 6, Batch: 300, Avg. Loss: 0.0011323097981512547\n",
      "Epoch: 6, Batch: 310, Avg. Loss: 0.0007790394201874733\n",
      "Epoch: 6, Batch: 320, Avg. Loss: 0.0009170798994600773\n",
      "Epoch: 6, Batch: 330, Avg. Loss: 0.001072743996977806\n",
      "Epoch: 6, Batch: 340, Avg. Loss: 0.000909005083143711\n",
      "Epoch: 7, Batch: 10, Avg. Loss: 0.0007364589311182499\n",
      "Epoch: 7, Batch: 20, Avg. Loss: 0.001310488123446703\n",
      "Epoch: 7, Batch: 30, Avg. Loss: 0.0009651847369968891\n",
      "Epoch: 7, Batch: 40, Avg. Loss: 0.0009090989157557488\n",
      "Epoch: 7, Batch: 50, Avg. Loss: 0.0011068571284413337\n",
      "Epoch: 7, Batch: 60, Avg. Loss: 0.0007855390608310699\n",
      "Epoch: 7, Batch: 70, Avg. Loss: 0.0009051162153482438\n",
      "Epoch: 7, Batch: 80, Avg. Loss: 0.0007278189510107041\n",
      "Epoch: 7, Batch: 90, Avg. Loss: 0.0010146351531147956\n",
      "Epoch: 7, Batch: 100, Avg. Loss: 0.0007887572497129441\n",
      "Epoch: 7, Batch: 110, Avg. Loss: 0.0009246009103953838\n",
      "Epoch: 7, Batch: 120, Avg. Loss: 0.0009536945670843124\n",
      "Epoch: 7, Batch: 130, Avg. Loss: 0.0007439287267625332\n",
      "Epoch: 7, Batch: 140, Avg. Loss: 0.0010919508412480354\n",
      "Epoch: 7, Batch: 150, Avg. Loss: 0.0008624610342085362\n",
      "Epoch: 7, Batch: 160, Avg. Loss: 0.0009396054670214653\n",
      "Epoch: 7, Batch: 170, Avg. Loss: 0.000978321872651577\n",
      "Epoch: 7, Batch: 180, Avg. Loss: 0.0008713055402040481\n",
      "Epoch: 7, Batch: 190, Avg. Loss: 0.001069643046706915\n",
      "Epoch: 7, Batch: 200, Avg. Loss: 0.0008694400489330291\n",
      "Epoch: 7, Batch: 210, Avg. Loss: 0.001203772336244583\n",
      "Epoch: 7, Batch: 220, Avg. Loss: 0.0006612416468560696\n",
      "Epoch: 7, Batch: 230, Avg. Loss: 0.0009210834167897701\n",
      "Epoch: 7, Batch: 240, Avg. Loss: 0.0010245077982544899\n",
      "Epoch: 7, Batch: 250, Avg. Loss: 0.0007734025306999683\n",
      "Epoch: 7, Batch: 260, Avg. Loss: 0.0008623703122138977\n",
      "Epoch: 7, Batch: 270, Avg. Loss: 0.0008730917423963547\n",
      "Epoch: 7, Batch: 280, Avg. Loss: 0.0009786821380257606\n",
      "Epoch: 7, Batch: 290, Avg. Loss: 0.0011157638132572175\n",
      "Epoch: 7, Batch: 300, Avg. Loss: 0.0007423981055617332\n",
      "Epoch: 7, Batch: 310, Avg. Loss: 0.0008835400491952896\n",
      "Epoch: 7, Batch: 320, Avg. Loss: 0.0007768853381276131\n",
      "Epoch: 7, Batch: 330, Avg. Loss: 0.0011497055217623712\n",
      "Epoch: 7, Batch: 340, Avg. Loss: 0.0008819841668009757\n",
      "Epoch: 8, Batch: 10, Avg. Loss: 0.0008959191553294659\n",
      "Epoch: 8, Batch: 20, Avg. Loss: 0.0008656840622425079\n",
      "Epoch: 8, Batch: 30, Avg. Loss: 0.0009176618307828904\n",
      "Epoch: 8, Batch: 40, Avg. Loss: 0.0009367012269794941\n",
      "Epoch: 8, Batch: 50, Avg. Loss: 0.001118363820016384\n",
      "Epoch: 8, Batch: 60, Avg. Loss: 0.0008635378368198872\n",
      "Epoch: 8, Batch: 70, Avg. Loss: 0.000801801647990942\n",
      "Epoch: 8, Batch: 80, Avg. Loss: 0.000858012892305851\n",
      "Epoch: 8, Batch: 90, Avg. Loss: 0.0009719395264983177\n",
      "Epoch: 8, Batch: 100, Avg. Loss: 0.0007258985526859761\n",
      "Epoch: 8, Batch: 110, Avg. Loss: 0.0008290294818580151\n",
      "Epoch: 8, Batch: 120, Avg. Loss: 0.0008662883937358856\n",
      "Epoch: 8, Batch: 130, Avg. Loss: 0.0009106481373310089\n",
      "Epoch: 8, Batch: 140, Avg. Loss: 0.0008738752529025078\n",
      "Epoch: 8, Batch: 150, Avg. Loss: 0.000920786701142788\n",
      "Epoch: 8, Batch: 160, Avg. Loss: 0.0008268979489803314\n",
      "Epoch: 8, Batch: 170, Avg. Loss: 0.0009442234821617603\n",
      "Epoch: 8, Batch: 180, Avg. Loss: 0.0010573157966136933\n",
      "Epoch: 8, Batch: 190, Avg. Loss: 0.0007387205250561237\n",
      "Epoch: 8, Batch: 200, Avg. Loss: 0.0010582321137189866\n",
      "Epoch: 8, Batch: 210, Avg. Loss: 0.0009766104333102704\n",
      "Epoch: 8, Batch: 220, Avg. Loss: 0.0007698447741568089\n",
      "Epoch: 8, Batch: 230, Avg. Loss: 0.000965962465852499\n",
      "Epoch: 8, Batch: 240, Avg. Loss: 0.0011206934899091721\n",
      "Epoch: 8, Batch: 250, Avg. Loss: 0.0009029093571007252\n",
      "Epoch: 8, Batch: 260, Avg. Loss: 0.0008312272615730763\n",
      "Epoch: 8, Batch: 270, Avg. Loss: 0.000833658181130886\n"
     ]
    }
   ],
   "source": [
    "# train your network\n",
    "n_epochs = 10 # start small, and increase when you've decided on your model structure and hyperparams\n",
    "\n",
    "train_net(n_epochs)\n"
   ]
  },
  {
   "cell_type": "markdown",
   "metadata": {},
   "source": [
    "## Test data\n",
    "\n",
    "See how your model performs on previously unseen, test data. We've already loaded and transformed this data, similar to the training data. Next, run your trained model on these images to see what kind of keypoints are produced. You should be able to see if your model is fitting each new face it sees, if the points are distributed randomly, or if the points have actually overfitted the training data and do not generalize."
   ]
  },
  {
   "cell_type": "code",
   "execution_count": null,
   "metadata": {
    "collapsed": true
   },
   "outputs": [
    {
     "name": "stdout",
     "output_type": "stream",
     "text": [
      "torch.Size([10, 1, 224, 224])\n",
      "torch.Size([10, 68, 2])\n",
      "torch.Size([10, 68, 2])\n"
     ]
    }
   ],
   "source": [
    "# get a sample of test data again\n",
    "test_images, test_outputs, gt_pts = net_sample_output()\n",
    "\n",
    "print(test_images.data.size())\n",
    "print(test_outputs.data.size())\n",
    "print(gt_pts.size())"
   ]
  },
  {
   "cell_type": "code",
   "execution_count": null,
   "metadata": {
    "collapsed": true
   },
   "outputs": [],
   "source": [
    "## TODO: visualize your test output\n",
    "# you can use the same function as before, by un-commenting the line below:\n",
    "\n",
    "#visualize_output(test_images, test_outputs, gt_pts)\n"
   ]
  },
  {
   "cell_type": "markdown",
   "metadata": {},
   "source": [
    "Once you've found a good model (or two), save your model so you can load it and use it later!"
   ]
  },
  {
   "cell_type": "code",
   "execution_count": null,
   "metadata": {
    "collapsed": true
   },
   "outputs": [],
   "source": [
    "## TODO: change the name to something uniqe for each new model\n",
    "model_dir = 'saved_models/'\n",
    "model_name = 'keypoints_model_1.pt'\n",
    "\n",
    "# after training, save your model parameters in the dir 'saved_models'\n",
    "torch.save(net.state_dict(), model_dir+model_name)"
   ]
  },
  {
   "cell_type": "markdown",
   "metadata": {},
   "source": [
    "After you've trained a well-performing model, answer the following questions so that we have some insight into your training and architecture selection process. Answering all questions is required to pass this project."
   ]
  },
  {
   "cell_type": "markdown",
   "metadata": {},
   "source": [
    "### Question 1: What optimization and loss functions did you choose and why?\n"
   ]
  },
  {
   "cell_type": "markdown",
   "metadata": {},
   "source": [
    "**Answer**: SmoothL1Loss\n",
    "I chose SmoothL1Loss because it is less sensitive to outliers than MSELoss and it prevents exploding gradients, which makes it suitable for a regression problem like keypoint detection"
   ]
  },
  {
   "cell_type": "markdown",
   "metadata": {},
   "source": [
    "### Question 2: What kind of network architecture did you start with and how did it change as you tried different architectures? Did you decide to add more convolutional layers or any layers to avoid overfitting the data?"
   ]
  },
  {
   "cell_type": "markdown",
   "metadata": {},
   "source": [
    "**Answer**: Sngle layer but then added:\n",
    "Convolutional layers\n",
    "Maxpooling layers\n",
    "Fully-connected (linear) layers"
   ]
  },
  {
   "cell_type": "markdown",
   "metadata": {},
   "source": [
    "### Question 3: How did you decide on the number of epochs and batch_size to train your model?"
   ]
  },
  {
   "cell_type": "markdown",
   "metadata": {},
   "source": [
    "**Answer**: The number of epochs and batch size were initially set to 10 for simplicity and to ensure the model could run quickly during the initial testing phase. These parameters would likely need to be adjusted during the model tuning process to improve performance."
   ]
  },
  {
   "cell_type": "markdown",
   "metadata": {},
   "source": [
    "## Feature Visualization\n",
    "\n",
    "Sometimes, neural networks are thought of as a black box, given some input, they learn to produce some output. CNN's are actually learning to recognize a variety of spatial patterns and you can visualize what each convolutional layer has been trained to recognize by looking at the weights that make up each convolutional kernel and applying those one at a time to a sample image. This technique is called feature visualization and it's useful for understanding the inner workings of a CNN."
   ]
  },
  {
   "cell_type": "markdown",
   "metadata": {},
   "source": [
    "In the cell below, you can see how to extract a single filter (by index) from your first convolutional layer. The filter should appear as a grayscale grid."
   ]
  },
  {
   "cell_type": "code",
   "execution_count": null,
   "metadata": {
    "collapsed": true
   },
   "outputs": [
    {
     "name": "stdout",
     "output_type": "stream",
     "text": [
      "[[ 0.00262933  0.15308517  0.19021606  0.09973837  0.03470734]\n",
      " [ 0.0547095   0.1607285  -0.19510159  0.13024333  0.15520608]\n",
      " [-0.01026182 -0.14428899 -0.15481004 -0.09275769  0.03872215]\n",
      " [ 0.18865757  0.17205879  0.07677744 -0.14257286 -0.18839833]\n",
      " [ 0.05675383 -0.1389446   0.09317188  0.00290782  0.14313617]]\n",
      "(5, 5)\n"
     ]
    },
    {
     "data": {
      "text/plain": [
       "<matplotlib.image.AxesImage at 0x7fe18c03e278>"
      ]
     },
     "execution_count": 39,
     "metadata": {},
     "output_type": "execute_result"
    },
    {
     "data": {
      "image/png": "[encoded data removed]",
      "text/plain": [
       "<Figure size 432x288 with 1 Axes>"
      ]
     },
     "metadata": {
      "needs_background": "light"
     },
     "output_type": "display_data"
    }
   ],
   "source": [
    "# Get the weights in the first conv layer, \"conv1\"\n",
    "# if necessary, change this to reflect the name of your first conv layer\n",
    "weights1 = net.conv1.weight.data\n",
    "\n",
    "w = weights1.numpy()\n",
    "\n",
    "filter_index = 0\n",
    "\n",
    "print(w[filter_index][0])\n",
    "print(w[filter_index][0].shape)\n",
    "\n",
    "# display the filter weights\n",
    "plt.imshow(w[filter_index][0], cmap='gray')\n"
   ]
  },
  {
   "cell_type": "markdown",
   "metadata": {},
   "source": [
    "## Feature maps\n",
    "\n",
    "Each CNN has at least one convolutional layer that is composed of stacked filters (also known as convolutional kernels). As a CNN trains, it learns what weights to include in its convolutional kernels and when these kernels are applied to some input image, they produce a set of **feature maps**. So, feature maps are just sets of filtered images; they are the images produced by applying a convolutional kernel to an input image. These maps show us the features that the different layers of the neural network learn to extract. For example, you might imagine a convolutional kernel that detects the vertical edges of a face or another one that detects the corners of eyes. You can see what kind of features each of these kernels detects by applying them to an image. One such example is shown below; from the way it brings out the lines in an the image, you might characterize this as an edge detection filter.\n",
    "\n",
    "<img src='images/feature_map_ex.png' width=50% height=50%/>\n",
    "\n",
    "\n",
    "Next, choose a test image and filter it with one of the convolutional kernels in your trained CNN; look at the filtered output to get an idea what that particular kernel detects.\n",
    "\n",
    "### TODO: Filter an image to see the effect of a convolutional kernel\n",
    "---"
   ]
  },
  {
   "cell_type": "code",
   "execution_count": null,
   "metadata": {
    "collapsed": true
   },
   "outputs": [],
   "source": [
    "##TODO: load in and display any image from the transformed test dataset\n",
    "\n",
    "## TODO: Using cv's filter2D function,\n",
    "## apply a specific set of filter weights (like the one displayed above) to the test image\n"
   ]
  },
  {
   "cell_type": "markdown",
   "metadata": {},
   "source": [
    "### Question 4: Choose one filter from your trained CNN and apply it to a test image; what purpose do you think it plays? What kind of feature do you think it detects?\n"
   ]
  },
  {
   "cell_type": "markdown",
   "metadata": {},
   "source": [
    "**Answer**: Conv1, first convolutional filter.\n",
    "It detecs the horizontal edges of the sleeves in pull over."
   ]
  },
  {
   "cell_type": "markdown",
   "metadata": {},
   "source": [
    "---\n",
    "## Moving on!\n",
    "\n",
    "Now that you've defined and trained your model (and saved the best model), you are ready to move on to the last notebook, which combines a face detector with your saved model to create a facial keypoint detection system that can predict the keypoints on *any* face in an image!"
   ]
  }
 ],
 "metadata": {
  "kernelspec": {
   "display_name": "cv-nd",
   "language": "python",
   "name": "python3"
  },
  "language_info": {
   "codemirror_mode": {
    "name": "ipython",
    "version": 3
   },
   "file_extension": ".py",
   "mimetype": "text/x-python",
   "name": "python",
   "nbconvert_exporter": "python",
   "pygments_lexer": "ipython3",
   "version": "3.6.13"
  }
 },
 "nbformat": 4,
 "nbformat_minor": 2
}
